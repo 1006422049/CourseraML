{
 "cells": [
  {
   "cell_type": "markdown",
   "metadata": {},
   "source": [
    "## Programming Exercise 8: Anomaly Detection and Recommender Systems"
   ]
  },
  {
   "cell_type": "code",
   "execution_count": null,
   "metadata": {
    "collapsed": false
   },
   "outputs": [],
   "source": [
    "%matplotlib inline\n",
    "import numpy as np\n",
    "import matplotlib.pyplot as plt\n",
    "import scipy.io #Used to load the OCTAVE *.mat files\n",
    "#from random import sample #Used for random initialization\n",
    "#import scipy.misc #Used to show matrix as an image\n",
    "#import matplotlib.cm as cm #Used to display images in a specific colormap\n",
    "#from scipy import linalg #Used for the \"SVD\" function"
   ]
  },
  {
   "cell_type": "markdown",
   "metadata": {},
   "source": [
    "### 1 Anomaly detection"
   ]
  },
  {
   "cell_type": "code",
   "execution_count": null,
   "metadata": {
    "collapsed": false
   },
   "outputs": [],
   "source": [
    "datafile = 'data/ex8data1.mat'\n",
    "mat = scipy.io.loadmat( datafile )\n",
    "X = mat['X']\n",
    "ycv = mat['yval']\n",
    "Xcv = mat['Xval']"
   ]
  },
  {
   "cell_type": "code",
   "execution_count": null,
   "metadata": {
    "collapsed": false
   },
   "outputs": [],
   "source": [
    "# Visualize the data\n",
    "def plotData(myX, newFig=False):\n",
    "    if newFig:\n",
    "        plt.figure(figsize=(8,6))\n",
    "    plt.plot(myX[:,0],myX[:,1],'b+')\n",
    "    plt.xlabel('Latency [ms]',fontsize=16)\n",
    "    plt.ylabel('Throughput [mb/s]',fontsize=16)\n",
    "    plt.grid(True)"
   ]
  },
  {
   "cell_type": "code",
   "execution_count": null,
   "metadata": {
    "collapsed": false
   },
   "outputs": [],
   "source": [
    "plotData(X)"
   ]
  },
  {
   "cell_type": "markdown",
   "metadata": {},
   "source": [
    "#### 1.1 Gaussian distribution"
   ]
  },
  {
   "cell_type": "code",
   "execution_count": null,
   "metadata": {
    "collapsed": false
   },
   "outputs": [],
   "source": [
    "def gaus(myX, mymu, mysig2):\n",
    "    \"\"\"\n",
    "    Function to compute the gaussian return values for a feature\n",
    "    matrix, myX, given the already computed mu vector and sigma matrix.\n",
    "    If sigma is a vector, it is turned into a diagonal matrix\n",
    "    Uses a loop over rows; I didn't quite figure out a vectorized implementation.\n",
    "    \"\"\"\n",
    "    m = myX.shape[0]\n",
    "    n = myX.shape[1]\n",
    "    if np.ndim(mysig2) == 1:\n",
    "        mysig2 = np.diag(mysig2)\n",
    "\n",
    "    norm = 1./(np.power((2*np.pi), n/2)*np.sqrt(np.linalg.det(mysig2)))\n",
    "    myinv = np.linalg.inv(mysig2)\n",
    "    myexp = np.zeros((m,1))\n",
    "    for irow in xrange(m):\n",
    "        xrow = myX[irow]\n",
    "        myexp[irow] = np.exp(-0.5*((xrow-mymu).T).dot(myinv).dot(xrow-mymu))\n",
    "    return norm*myexp\n"
   ]
  },
  {
   "cell_type": "markdown",
   "metadata": {},
   "source": [
    "#### 1.2 Estimating parameters for a Gaussian"
   ]
  },
  {
   "cell_type": "code",
   "execution_count": null,
   "metadata": {
    "collapsed": false
   },
   "outputs": [],
   "source": [
    "def getGaussianParams(myX,useMultivariate = True):\n",
    "    \"\"\"\n",
    "    Function that given a feature matrix X that is (m x n)\n",
    "    returns a mean vector and a sigmasquared vector that are\n",
    "    both (n x 1) in shape.\n",
    "    This can do it either as a 1D gaussian for each feature,\n",
    "    or as a multivariate gaussian.\n",
    "    \"\"\"\n",
    "    m = myX.shape[0]\n",
    "    mu = np.mean(myX,axis=0)\n",
    "    if not useMultivariate:\n",
    "        sigma2 = np.sum(np.square(myX-mu),axis=0)/float(m)\n",
    "        return mu, sigma2\n",
    "    else:\n",
    "        sigma2 = ((myX-mu).T.dot(myX-mu))/float(m)\n",
    "        return mu, sigma2"
   ]
  },
  {
   "cell_type": "code",
   "execution_count": null,
   "metadata": {
    "collapsed": false
   },
   "outputs": [],
   "source": [
    "mu, sig2 = getGaussianParams(X, useMultivariate = True)"
   ]
  },
  {
   "cell_type": "markdown",
   "metadata": {},
   "source": [
    "##### 1.2.1 Visualizing the Gaussian probability contours"
   ]
  },
  {
   "cell_type": "code",
   "execution_count": null,
   "metadata": {
    "collapsed": false
   },
   "outputs": [],
   "source": [
    "def plotContours(mymu, mysigma2, newFig=False, useMultivariate = True):\n",
    "    delta = .5\n",
    "    myx = np.arange(0,30,delta)\n",
    "    myy = np.arange(0,30,delta)\n",
    "    meshx, meshy = np.meshgrid(myx, myy)\n",
    "    coord_list = [ entry.ravel() for entry in (meshx, meshy) ]\n",
    "    points = np.vstack(coord_list).T\n",
    "    myz = gaus(points, mymu, mysigma2)\n",
    "    #if not useMultivariate:\n",
    "    #    myz = gausOrthog(points, mymu, mysigma2)\n",
    "    #else: myz = gausMV(points, mymu, mysigma2)\n",
    "    myz = myz.reshape((myx.shape[0],myx.shape[0]))\n",
    "\n",
    "    if newFig: plt.figure(figsize=(6,4))\n",
    "    \n",
    "    cont_levels = [10**exp for exp in range(-20,0,3)]\n",
    "    mycont = plt.contour(meshx, meshy, myz, levels=cont_levels)\n",
    "\n",
    "    plt.title('Gaussian Contours',fontsize=16)"
   ]
  },
  {
   "cell_type": "code",
   "execution_count": null,
   "metadata": {
    "collapsed": false
   },
   "outputs": [],
   "source": [
    "# First contours without using multivariate gaussian:\n",
    "plotData(X, newFig=True)\n",
    "useMV = False\n",
    "plotContours(*getGaussianParams(X, useMV), newFig=False, useMultivariate = useMV)\n",
    "\n",
    "# Then contours with multivariate gaussian:\n",
    "plotData(X, newFig=True)\n",
    "useMV = True\n",
    "plotContours(*getGaussianParams(X, useMV), newFig=False, useMultivariate = useMV)"
   ]
  },
  {
   "cell_type": "markdown",
   "metadata": {},
   "source": [
    "#### 1.3 Selecting the threshold, $\\epsilon$"
   ]
  },
  {
   "cell_type": "code",
   "execution_count": null,
   "metadata": {
    "collapsed": false
   },
   "outputs": [],
   "source": [
    "def computeF1(predVec, trueVec):\n",
    "    \"\"\"\n",
    "    F1 = 2 * (P*R)/(P+R)\n",
    "    where P is precision, R is recall\n",
    "    Precision = \"of all predicted y=1, what fraction had true y=1\"\n",
    "    Recall = \"of all true y=1, what fraction predicted y=1?\n",
    "    Note predictionVec and trueLabelVec should be boolean vectors.\n",
    "    \"\"\"\n",
    "    #print predVec.shape\n",
    "    #print trueVec.shape\n",
    "    #assert predVec.shape == trueVec.shape\n",
    "    \n",
    "    P, R = 0., 0.\n",
    "    if float(np.sum(predVec)):\n",
    "        P = np.sum([int(trueVec[x]) for x in xrange(predVec.shape[0]) \\\n",
    "                    if predVec[x]]) / float(np.sum(predVec))\n",
    "    if float(np.sum(trueVec)):\n",
    "        R = np.sum([int(predVec[x]) for x in xrange(trueVec.shape[0]) \\\n",
    "                    if trueVec[x]]) / float(np.sum(trueVec))\n",
    "        \n",
    "    return 2*P*R/(P+R) if (P+R) else 0\n",
    "    "
   ]
  },
  {
   "cell_type": "code",
   "execution_count": null,
   "metadata": {
    "collapsed": false
   },
   "outputs": [],
   "source": [
    "def selectThreshold(myycv, mypCVs):\n",
    "    \"\"\"\n",
    "    Function to select the best epsilon value from the CV set\n",
    "    by looping over possible epsilon values and computing the F1\n",
    "    score for each.\n",
    "    \"\"\"\n",
    "    # Make a list of possible epsilon values\n",
    "    nsteps = 1000\n",
    "    epses = np.linspace(np.min(mypCVs),np.max(mypCVs),nsteps)\n",
    "    \n",
    "    # Compute the F1 score for each epsilon value, and store the best \n",
    "    # F1 score (and corresponding best epsilon)\n",
    "    bestF1, bestEps = 0, 0\n",
    "    trueVec = (myycv == 1).flatten()\n",
    "    for eps in epses:\n",
    "        predVec = mypCVs < eps\n",
    "        thisF1 = computeF1(predVec, trueVec)\n",
    "        if thisF1 > bestF1:\n",
    "            bestF1 = thisF1\n",
    "            bestEps = eps\n",
    "            \n",
    "    print \"Best F1 is %f, best eps is %0.4g.\"%(bestF1,bestEps)\n",
    "    return bestF1, bestEps\n",
    "        "
   ]
  },
  {
   "cell_type": "code",
   "execution_count": null,
   "metadata": {
    "collapsed": false
   },
   "outputs": [],
   "source": [
    "# Using the gaussian parameters from the full training set,\n",
    "# figure out the p-value for each point in the CV set\n",
    "pCVs = gaus(Xcv, mu, sig2)\n",
    "\n",
    "#You should see a value for epsilon of about 8.99e-05.\n",
    "bestF1, bestEps = selectThreshold(ycv,pCVs)"
   ]
  },
  {
   "cell_type": "code",
   "execution_count": null,
   "metadata": {
    "collapsed": false
   },
   "outputs": [],
   "source": [
    "def plotAnomalies(myX, mybestEps, newFig = False, useMultivariate = True):\n",
    "    ps = gaus(myX, *getGaussianParams(myX, useMultivariate))\n",
    "    anoms = np.array([myX[x] for x in xrange(myX.shape[0]) if ps[x] < mybestEps])\n",
    "    if newFig: plt.figure(figsize=(6,4))\n",
    "    plt.scatter(anoms[:,0],anoms[:,1], s=80, facecolors='none', edgecolors='r')"
   ]
  },
  {
   "cell_type": "code",
   "execution_count": null,
   "metadata": {
    "collapsed": false
   },
   "outputs": [],
   "source": [
    "plotData(X, newFig=True)\n",
    "plotContours(mu, sig2, newFig=False, useMultivariate=True)\n",
    "plotAnomalies(X, bestEps, newFig=False, useMultivariate=True)"
   ]
  },
  {
   "cell_type": "markdown",
   "metadata": {},
   "source": [
    "#### 1.4 High dimensional dataset"
   ]
  },
  {
   "cell_type": "code",
   "execution_count": null,
   "metadata": {
    "collapsed": false
   },
   "outputs": [],
   "source": [
    "datafile = 'data/ex8data2.mat'\n",
    "mat = scipy.io.loadmat( datafile )\n",
    "Xpart2 = mat['X']\n",
    "ycvpart2 = mat['yval']\n",
    "Xcvpart2 = mat['Xval']\n",
    "print 'Xpart2 shape is ', Xpart2.shape"
   ]
  },
  {
   "cell_type": "code",
   "execution_count": null,
   "metadata": {
    "collapsed": false
   },
   "outputs": [],
   "source": [
    "mu, sig2 = getGaussianParams(Xpart2, useMultivariate=False)\n",
    "ps = gaus(Xpart2, mu, sig2)\n",
    "psCV = gaus(Xcvpart2, mu, sig2)\n",
    "\n",
    "# Using the gaussian parameters from the full training set,\n",
    "# figure out the p-value for each point in the CV set\n",
    "pCVs = gaus(Xcvpart2, mu, sig2)\n",
    "\n",
    "# You should see a value epsilon of about 1.38e-18, and 117 anomalies found.\n",
    "bestF1, bestEps = selectThreshold(ycvpart2,pCVs)\n",
    "anoms = [Xpart2[x] for x in xrange(Xpart2.shape[0]) if ps[x] < bestEps]\n",
    "print '# of anomalies found: ',len(anoms)"
   ]
  },
  {
   "cell_type": "markdown",
   "metadata": {},
   "source": [
    "### 2 Recommender Systems"
   ]
  },
  {
   "cell_type": "code",
   "execution_count": null,
   "metadata": {
    "collapsed": true
   },
   "outputs": [],
   "source": []
  }
 ],
 "metadata": {
  "kernelspec": {
   "display_name": "Python 2",
   "language": "python",
   "name": "python2"
  },
  "language_info": {
   "codemirror_mode": {
    "name": "ipython",
    "version": 2
   },
   "file_extension": ".py",
   "mimetype": "text/x-python",
   "name": "python",
   "nbconvert_exporter": "python",
   "pygments_lexer": "ipython2",
   "version": "2.7.5"
  }
 },
 "nbformat": 4,
 "nbformat_minor": 0
}
