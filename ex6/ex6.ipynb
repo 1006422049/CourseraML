{
 "cells": [
  {
   "cell_type": "markdown",
   "metadata": {},
   "source": [
    "## Programming Exercise 6: Support Vector Machines"
   ]
  },
  {
   "cell_type": "code",
   "execution_count": null,
   "metadata": {
    "collapsed": false
   },
   "outputs": [],
   "source": [
    "%matplotlib inline\n",
    "import numpy as np\n",
    "import matplotlib.pyplot as plt\n",
    "import scipy.io #Used to load the OCTAVE *.mat files\n",
    "import scipy.optimize #fmin_cg to train the linear regression\n",
    "from sklearn import svm #SVM software"
   ]
  },
  {
   "cell_type": "markdown",
   "metadata": {},
   "source": [
    "### 1 Support Vector Machines"
   ]
  },
  {
   "cell_type": "markdown",
   "metadata": {},
   "source": [
    "#### 1.1 Visualizing the dataset"
   ]
  },
  {
   "cell_type": "code",
   "execution_count": null,
   "metadata": {
    "collapsed": false
   },
   "outputs": [],
   "source": [
    "datafile = 'data/ex6data1.mat'\n",
    "mat = scipy.io.loadmat( datafile )\n",
    "#Training set\n",
    "X, y = mat['X'], mat['y']\n",
    "#NOT inserting a column of 1's in case SVM software does it for me automatically...\n",
    "#X =     np.insert(X    ,0,1,axis=1)\n",
    "\n",
    "#Divide the sample into two: ones with positive classification, one with null classification\n",
    "pos = np.array([X[i] for i in xrange(X.shape[0]) if y[i] == 1])\n",
    "neg = np.array([X[i] for i in xrange(X.shape[0]) if y[i] == 0])"
   ]
  },
  {
   "cell_type": "code",
   "execution_count": null,
   "metadata": {
    "collapsed": false
   },
   "outputs": [],
   "source": [
    "def plotData():\n",
    "    plt.figure(figsize=(10,6))\n",
    "    plt.plot(pos[:,0],pos[:,1],'k+',label='Positive Sample')\n",
    "    plt.plot(neg[:,0],neg[:,1],'yo',label='Negative Sample')\n",
    "    plt.xlabel('Column 1 Variable')\n",
    "    plt.ylabel('Column 2 Variable')\n",
    "    plt.legend()\n",
    "    plt.grid(True)\n",
    "    \n",
    "plotData()"
   ]
  },
  {
   "cell_type": "code",
   "execution_count": null,
   "metadata": {
    "collapsed": false,
    "scrolled": false
   },
   "outputs": [],
   "source": [
    "#Function to draw the SVM boundary\n",
    "def plotBoundary(my_svm, xmin, xmax, ymin, ymax):\n",
    "    \"\"\"\n",
    "    Function to plot the decision boundary for a trained SVM\n",
    "    It works by making a grid of x1 (\"xvals\") and x2 (\"yvals\") points,\n",
    "    And for each, computing whether the SVM classifies that point as\n",
    "    True or False. Then, a contour is drawn with a built-in pyplot function.\n",
    "    \"\"\"\n",
    "    xvals = np.linspace(xmin,xmax,100)\n",
    "    yvals = np.linspace(ymin,ymax,100)\n",
    "    zvals = np.zeros((len(xvals),len(yvals)))\n",
    "    for i in xrange(len(xvals)):\n",
    "        for j in xrange(len(yvals)):\n",
    "            zvals[i][j] = float(my_svm.predict(np.array([xvals[i],yvals[j]])))\n",
    "    zvals = zvals.transpose()\n",
    "\n",
    "    u, v = np.meshgrid( xvals, yvals )\n",
    "    mycontour = plt.contour( xvals, yvals, zvals, [0])\n",
    "    plt.title(\"Decision Boundary\")"
   ]
  },
  {
   "cell_type": "code",
   "execution_count": null,
   "metadata": {
    "collapsed": false
   },
   "outputs": [],
   "source": [
    "# Run the SVM training (with C = 1) using SVM software. \n",
    "# When C = 1, you should find that the SVM puts the decision boundary \n",
    "# in the gap between the two datasets and misclassifies the data point on the far left\n",
    "\n",
    "#First we make an instance of an SVM with C=1 and 'linear' kernel\n",
    "linear_svm = svm.SVC(C=1, kernel='linear')\n",
    "#Now we fit the SVM to our X matrix (no bias unit)\n",
    "linear_svm.fit( X, y.flatten() )\n",
    "#Now we plot the decision boundary\n",
    "plotData()\n",
    "plotBoundary(linear_svm,0,4.5,1.5,5)"
   ]
  },
  {
   "cell_type": "code",
   "execution_count": null,
   "metadata": {
    "collapsed": false
   },
   "outputs": [],
   "source": [
    "# When C = 100, you should find that the SVM now classifies every \n",
    "# single example correctly, but has a decision boundary that does \n",
    "# not appear to be a natural fit for the data.\n",
    "linear_svm = svm.SVC(C=100, kernel='linear')\n",
    "linear_svm.fit( X, y.flatten() )\n",
    "plotData()\n",
    "plotBoundary(linear_svm,0,4.5,1.5,5)"
   ]
  },
  {
   "cell_type": "code",
   "execution_count": null,
   "metadata": {
    "collapsed": false
   },
   "outputs": [],
   "source": [
    "#help(linear_svm)\n",
    "#linear_svm.get_params()"
   ]
  },
  {
   "cell_type": "markdown",
   "metadata": {},
   "source": [
    "#### 1.2 SVM with Gaussian Kernels"
   ]
  },
  {
   "cell_type": "markdown",
   "metadata": {},
   "source": [
    "##### 1.2.1 Gaussian Kernel"
   ]
  },
  {
   "cell_type": "code",
   "execution_count": null,
   "metadata": {
    "collapsed": false
   },
   "outputs": [],
   "source": [
    "# Here's how to use this SVM software with a custom kernel:\n",
    "# http://scikit-learn.org/stable/auto_examples/svm/plot_custom_kernel.html\n",
    "def gaussKernel(x1, x2, sigma):\n",
    "    sigmasquared = np.power(sigma,2)\n",
    "    return np.exp(-(x1-x2).T.dot(x1-x2)/(2*sigmasquared))\n",
    "\n",
    "# x1 = [1 2 1]; x2 = [0 4 -1]; sigma = 2;\n",
    "# sim = gaussianKernel(x1, x2, sigma);\n",
    "# this value should be about 0.324652\n",
    "print gaussKernel(np.array([1, 2, 1]),np.array([0, 4, -1]), 2.)"
   ]
  },
  {
   "cell_type": "code",
   "execution_count": null,
   "metadata": {
    "collapsed": true
   },
   "outputs": [],
   "source": [
    "# Now that I've shown I can implement a gaussian Kernel,\n",
    "# I will use the of-course built-in gaussian kernel in my SVM software\n",
    "# because it's certainly more optimized than mine.\n",
    "# It is called 'rbf' and instead of dividing by sigmasquared,\n",
    "# it multiplies by 'gamma'. As long as I set gamma = sigma^(-2),\n",
    "# it will work just the same."
   ]
  },
  {
   "cell_type": "markdown",
   "metadata": {},
   "source": [
    "##### 1.2.2 Example Dataset 2"
   ]
  },
  {
   "cell_type": "code",
   "execution_count": null,
   "metadata": {
    "collapsed": true
   },
   "outputs": [],
   "source": [
    "datafile = 'data/ex6data2.mat'\n",
    "mat = scipy.io.loadmat( datafile )\n",
    "#Training set\n",
    "X, y = mat['X'], mat['y']\n",
    "\n",
    "#Divide the sample into two: ones with positive classification, one with null classification\n",
    "pos = np.array([X[i] for i in xrange(X.shape[0]) if y[i] == 1])\n",
    "neg = np.array([X[i] for i in xrange(X.shape[0]) if y[i] == 0])"
   ]
  },
  {
   "cell_type": "code",
   "execution_count": null,
   "metadata": {
    "collapsed": false
   },
   "outputs": [],
   "source": [
    "plotData()"
   ]
  },
  {
   "cell_type": "code",
   "execution_count": null,
   "metadata": {
    "collapsed": false
   },
   "outputs": [],
   "source": [
    "# Train the SVM with the Gaussian kernel on this dataset.\n",
    "sigma = 0.1\n",
    "gamma = np.power(sigma,-2.)\n",
    "gaus_svm = svm.SVC(C=1, kernel='rbf', gamma=gamma)\n",
    "gaus_svm.fit( X, y.flatten() )\n",
    "plotData()\n",
    "plotBoundary(gaus_svm,0,1,.4,1.0)"
   ]
  },
  {
   "cell_type": "markdown",
   "metadata": {},
   "source": [
    "##### 1.2.3 Example Dataset 3"
   ]
  },
  {
   "cell_type": "code",
   "execution_count": null,
   "metadata": {
    "collapsed": true
   },
   "outputs": [],
   "source": [
    "datafile = 'data/ex6data3.mat'\n",
    "mat = scipy.io.loadmat( datafile )\n",
    "#Training set\n",
    "X, y = mat['X'], mat['y']\n",
    "Xval, yval = mat['Xval'], mat['yval']\n",
    "\n",
    "#Divide the sample into two: ones with positive classification, one with null classification\n",
    "pos = np.array([X[i] for i in xrange(X.shape[0]) if y[i] == 1])\n",
    "neg = np.array([X[i] for i in xrange(X.shape[0]) if y[i] == 0])"
   ]
  },
  {
   "cell_type": "code",
   "execution_count": null,
   "metadata": {
    "collapsed": false
   },
   "outputs": [],
   "source": [
    "plotData()"
   ]
  },
  {
   "cell_type": "code",
   "execution_count": null,
   "metadata": {
    "collapsed": false
   },
   "outputs": [],
   "source": [
    "# Your task is to use the cross validation set Xval, yval to \n",
    "# determine the best C and σ parameter to use.\n",
    "\n",
    "# The score() function for a trained SVM takes in\n",
    "# X and y to test the score on, and the (float)\n",
    "# value returned is \"Mean accuracy of self.predict(X) wrt. y\"\n",
    "\n",
    "Cvalues = (0.01, 0.03, 0.1, 0.3, 1., 3., 10., 30.)\n",
    "sigmavalues = Cvalues\n",
    "best_pair, best_score = (0, 0), 0\n",
    "\n",
    "for Cvalue in Cvalues:\n",
    "    for sigmavalue in sigmavalues:\n",
    "        gamma = np.power(sigmavalue,-2.)\n",
    "        gaus_svm = svm.SVC(C=Cvalue, kernel='rbf', gamma=gamma)\n",
    "        gaus_svm.fit( X, y.flatten() )\n",
    "        this_score = gaus_svm.score(Xval,yval)\n",
    "        #print this_score\n",
    "        if this_score > best_score:\n",
    "            best_score = this_score\n",
    "            best_pair = (Cvalue, sigmavalue)\n",
    "            \n",
    "print \"Best C, sigma pair is (%f, %f) with a score of %f.\"%(best_pair[0],best_pair[1],best_score)"
   ]
  },
  {
   "cell_type": "code",
   "execution_count": null,
   "metadata": {
    "collapsed": false
   },
   "outputs": [],
   "source": [
    "gaus_svm = svm.SVC(C=best_pair[0], kernel='rbf', gamma = np.power(best_pair[1],-2.))\n",
    "gaus_svm.fit( X, y.flatten() )\n",
    "plotData()\n",
    "plotBoundary(gaus_svm,-.5,.3,-.8,.6)"
   ]
  },
  {
   "cell_type": "markdown",
   "metadata": {},
   "source": [
    "### 2 Spam Classification"
   ]
  }
 ],
 "metadata": {
  "kernelspec": {
   "display_name": "Python 2",
   "language": "python",
   "name": "python2"
  },
  "language_info": {
   "codemirror_mode": {
    "name": "ipython",
    "version": 2
   },
   "file_extension": ".py",
   "mimetype": "text/x-python",
   "name": "python",
   "nbconvert_exporter": "python",
   "pygments_lexer": "ipython2",
   "version": "2.7.5"
  }
 },
 "nbformat": 4,
 "nbformat_minor": 0
}
