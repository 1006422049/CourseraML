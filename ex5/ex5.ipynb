{
 "cells": [
  {
   "cell_type": "markdown",
   "metadata": {},
   "source": [
    "## Programming Exercise 5: Regularized Linear Regression and Bias vs. Variance"
   ]
  },
  {
   "cell_type": "code",
   "execution_count": 3,
   "metadata": {
    "collapsed": false
   },
   "outputs": [],
   "source": [
    "%matplotlib inline\n",
    "import numpy as np\n",
    "import matplotlib.pyplot as plt\n",
    "#import pandas as pd\n",
    "import scipy.io #Used to load the OCTAVE *.mat files\n",
    "#import scipy.misc #Used to show matrix as an image\n",
    "#import matplotlib.cm as cm #Used to display images in a specific colormap\n",
    "#import random #To pick random images to display\n",
    "#import scipy.optimize #fmin_cg to train neural network\n",
    "#import itertools\n",
    "#from scipy.special import expit #Vectorized sigmoid function"
   ]
  },
  {
   "cell_type": "markdown",
   "metadata": {},
   "source": [
    "### 1 Regularized Linear Regression"
   ]
  },
  {
   "cell_type": "markdown",
   "metadata": {},
   "source": [
    "#### 1.1 Visualizing the dataset"
   ]
  },
  {
   "cell_type": "code",
   "execution_count": 31,
   "metadata": {
    "collapsed": false
   },
   "outputs": [],
   "source": [
    "datafile = 'data/ex5data1.mat'\n",
    "mat = scipy.io.loadmat( datafile )\n",
    "#Training set\n",
    "X, y = mat['X'], mat['y']\n",
    "#Cross validation set\n",
    "Xval, yval = mat['Xval'], mat['yval']\n",
    "#Test set\n",
    "Xtest, ytest = mat['Xtest'], mat['ytest']\n",
    "#Insert a column of 1's to all of the X's, as usual\n",
    "X =     np.insert(X    ,0,1,axis=1)\n",
    "Xval =  np.insert(Xval ,0,1,axis=1)\n",
    "Xtest = np.insert(Xtest,0,1,axis=1)\n",
    "#print \"'y' shape: %s. Unique elements in y: %s\"%(mat['y'].shape,np.unique(mat['y']))\n",
    "#print \"'X' shape: %s. X[0] shape: %s\"%(X.shape,X[0].shape)\n",
    "#X is 5000 images. Each image is a row. Each image has 400 pixels unrolled (20x20)\n",
    "#y is a classification for each image. 1-10, where \"10\" is the handwritten \"0\""
   ]
  },
  {
   "cell_type": "code",
   "execution_count": 36,
   "metadata": {
    "collapsed": false
   },
   "outputs": [
    {
     "name": "stdout",
     "output_type": "stream",
     "text": [
      "[-15.93675813 -29.15297922  36.18954863  37.49218733 -48.05882945\n",
      "  -8.94145794  15.30779289 -34.70626581   1.38915437 -44.38375985\n",
      "   7.01350208  22.76274892]\n"
     ]
    }
   ],
   "source": [
    "#print \"X.shape = \",X.shape\n",
    "#print \"y.shape = \",y.shape\n",
    "#print \"Xval.shape = \",Xval.shape\n",
    "#print \"Xtest.shape = \",Xtest.shape"
   ]
  },
  {
   "cell_type": "code",
   "execution_count": 37,
   "metadata": {
    "collapsed": false
   },
   "outputs": [
    {
     "data": {
      "image/png": "[encoded data removed]",
      "text/plain": [
       "<matplotlib.figure.Figure at 0x11c89c0d0>"
      ]
     },
     "metadata": {},
     "output_type": "display_data"
    }
   ],
   "source": [
    "def plotData():\n",
    "    plt.figure(figsize=(8,5))\n",
    "    plt.ylabel('Water flowing out of the dam (y)')\n",
    "    plt.xlabel('Change in water level (x)')\n",
    "    plt.plot(X[:,1],y,'rx')\n",
    "    plt.grid(True)\n",
    "    \n",
    "plotData()"
   ]
  },
  {
   "cell_type": "markdown",
   "metadata": {},
   "source": [
    "#### 1.2 Regularized linear regression cost function"
   ]
  },
  {
   "cell_type": "code",
   "execution_count": 52,
   "metadata": {
    "collapsed": false
   },
   "outputs": [],
   "source": [
    "def h(theta,X): #Linear hypothesis function\n",
    "    return np.dot(X,theta)\n",
    "\n",
    "def computeCost(mytheta,X,y,mylambda=0.): #Cost function\n",
    "    \"\"\"\n",
    "    theta_start is an n- dimensional vector of initial theta guess\n",
    "    X is matrix with n- columns and m- rows\n",
    "    y is a matrix with m- rows and 1 column\n",
    "    \"\"\"\n",
    "    m = X.shape[0]\n",
    "    mycost = float((1./(2*m)) * np.dot((h(mytheta,X)-y).T,(h(mytheta,X)-y)))\n",
    "    gradterm = (float(mylambda)/(2*m)) * float(mytheta[1:].T.dot(mytheta[1:]))\n",
    "    return mycost + gradterm"
   ]
  },
  {
   "cell_type": "code",
   "execution_count": 53,
   "metadata": {
    "collapsed": false
   },
   "outputs": [
    {
     "name": "stdout",
     "output_type": "stream",
     "text": [
      "303.951525554\n"
     ]
    }
   ],
   "source": [
    "#\"Using theta initialized at [1; 1], you should expect to see an output of 303.993.\"\n",
    "mytheta = np.array([[1.],[1.]])\n",
    "print computeCost(mytheta,X,y,mylambda=0.)"
   ]
  },
  {
   "cell_type": "markdown",
   "metadata": {},
   "source": [
    "#### 1.3 Regularized linear regression gradient"
   ]
  },
  {
   "cell_type": "code",
   "execution_count": 55,
   "metadata": {
    "collapsed": true
   },
   "outputs": [],
   "source": [
    "#### 1.4 Fitting linear regression"
   ]
  },
  {
   "cell_type": "code",
   "execution_count": 56,
   "metadata": {
    "collapsed": true
   },
   "outputs": [],
   "source": [
    "### 2 Bias-variance"
   ]
  },
  {
   "cell_type": "code",
   "execution_count": 57,
   "metadata": {
    "collapsed": true
   },
   "outputs": [],
   "source": [
    "#### 2.1 Learning curves"
   ]
  },
  {
   "cell_type": "code",
   "execution_count": 58,
   "metadata": {
    "collapsed": true
   },
   "outputs": [],
   "source": [
    "### 3 Polynomial regression"
   ]
  },
  {
   "cell_type": "code",
   "execution_count": 59,
   "metadata": {
    "collapsed": true
   },
   "outputs": [],
   "source": [
    "#### 3.1 Learning Polynomial Regression"
   ]
  },
  {
   "cell_type": "code",
   "execution_count": 60,
   "metadata": {
    "collapsed": true
   },
   "outputs": [],
   "source": [
    "#### 3.2 Optional: Adjusting the regularization parameter"
   ]
  },
  {
   "cell_type": "code",
   "execution_count": null,
   "metadata": {
    "collapsed": true
   },
   "outputs": [],
   "source": [
    "#### 3.3 Selecting \\"
   ]
  }
 ],
 "metadata": {
  "kernelspec": {
   "display_name": "Python 2",
   "language": "python",
   "name": "python2"
  },
  "language_info": {
   "codemirror_mode": {
    "name": "ipython",
    "version": 2
   },
   "file_extension": ".py",
   "mimetype": "text/x-python",
   "name": "python",
   "nbconvert_exporter": "python",
   "pygments_lexer": "ipython2",
   "version": "2.7.5"
  }
 },
 "nbformat": 4,
 "nbformat_minor": 0
}
