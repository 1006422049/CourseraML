{
 "cells": [
  {
   "cell_type": "markdown",
   "metadata": {},
   "source": [
    "## Programming Exercise 7: _K_-means Clustering and Principal Component Analysis"
   ]
  },
  {
   "cell_type": "code",
   "execution_count": null,
   "metadata": {
    "collapsed": false
   },
   "outputs": [],
   "source": [
    "%matplotlib inline\n",
    "import numpy as np\n",
    "import matplotlib.pyplot as plt\n",
    "import scipy.io #Used to load the OCTAVE *.mat files\n",
    "from random import sample #Used for random initialization"
   ]
  },
  {
   "cell_type": "markdown",
   "metadata": {},
   "source": [
    "### 1 _K_-means Clustering\n",
    "#### 1.1 Implementing _K_-means"
   ]
  },
  {
   "cell_type": "markdown",
   "metadata": {},
   "source": [
    "##### 1.1.1 Finding closest centroids"
   ]
  },
  {
   "cell_type": "code",
   "execution_count": null,
   "metadata": {
    "collapsed": false
   },
   "outputs": [],
   "source": [
    "#Read in ex7data2.mac\n",
    "datafile = 'data/ex7data2.mat'\n",
    "mat = scipy.io.loadmat( datafile )\n",
    "X = mat['X']\n",
    "\n",
    "#X is 300 points, each has two coordinates\n",
    "#IE the shape is (300,2)"
   ]
  },
  {
   "cell_type": "code",
   "execution_count": null,
   "metadata": {
    "collapsed": false
   },
   "outputs": [],
   "source": [
    "#Choose the number of centroids... K = 3\n",
    "K = 3\n",
    "#Choose the initial centroids matching ex7.m assignment script\n",
    "initial_centroids = np.array([[3,3],[6,2],[8,5]])"
   ]
  },
  {
   "cell_type": "code",
   "execution_count": null,
   "metadata": {
    "collapsed": false
   },
   "outputs": [],
   "source": [
    "#Visualizing the data\n",
    "def plotData(myX,mycentroids,myidxs = None):\n",
    "\n",
    "    \"\"\"\n",
    "    Fucntion to plot the data and color it accordingly.\n",
    "    myidxs should be the latest iteraction index vector\n",
    "    mycentroids should be a vector of centroids, one per iteration\n",
    "    \"\"\"\n",
    "    \n",
    "    colors = ['b','g','gold','darkorange','salmon','olivedrab']\n",
    "    \n",
    "    assert myX[0].shape == mycentroids[0][0].shape\n",
    "    assert mycentroids[-1].shape[0] <= len(colors)\n",
    "\n",
    "    #If idxs is supplied, divide up X into colors\n",
    "    if myidxs is not None:\n",
    "        assert myidxs.shape[0] == myX.shape[0]\n",
    "        subX = []\n",
    "        for x in xrange(mycentroids[0].shape[0]):\n",
    "            subX.append(np.array([myX[i] for i in xrange(myX.shape[0]) if myidxs[i] == x]))\n",
    "    else:\n",
    "        subX = [myX]\n",
    "        \n",
    "    fig = plt.figure(figsize=(7,5))\n",
    "    for x in xrange(len(subX)):\n",
    "        newX = subX[x]\n",
    "        plt.plot(newX[:,0],newX[:,1],'o',color=colors[x],\n",
    "                 alpha=0.75, label='Data Points: Cluster %d'%x)\n",
    "    plt.xlabel('x1',fontsize=14)\n",
    "    plt.ylabel('x2',fontsize=14)\n",
    "    plt.title('Plot of X Points',fontsize=16)\n",
    "    plt.grid(True)\n",
    "\n",
    "    #Drawing a history of centroid movement\n",
    "    tempx, tempy = [], []\n",
    "    for mycentroid in mycentroids:\n",
    "        tempx.append(mycentroid[:,0])\n",
    "        tempy.append(mycentroid[:,1])\n",
    "    \n",
    "    for x in xrange(len(tempx[0])):\n",
    "        plt.plot(tempx, tempy, 'rx--', markersize=8)\n",
    "\n",
    "    leg = plt.legend(loc=4, framealpha=0.5)"
   ]
  },
  {
   "cell_type": "code",
   "execution_count": null,
   "metadata": {
    "collapsed": false
   },
   "outputs": [],
   "source": [
    "plotData(X,[initial_centroids])"
   ]
  },
  {
   "cell_type": "code",
   "execution_count": null,
   "metadata": {
    "collapsed": true
   },
   "outputs": [],
   "source": [
    "def distSquared(point1, point2):\n",
    "    assert point1.shape == point2.shape\n",
    "    return np.sum(np.square(point2-point1))"
   ]
  },
  {
   "cell_type": "code",
   "execution_count": null,
   "metadata": {
    "collapsed": true
   },
   "outputs": [],
   "source": [
    "def findClosestCentroids(myX, mycentroids):\n",
    "    \"\"\"\n",
    "    Function takes in the (m,n) X matrix\n",
    "    (where m is the # of points, n is # of features per point)\n",
    "    and the (K,n) centroid seed matrix\n",
    "    (where K is the # of centroids (clusters)\n",
    "    and returns a (m,1) vector of cluster indices \n",
    "    per point in X (0 through K-1)\n",
    "    \"\"\"\n",
    "    idxs = np.zeros((myX.shape[0],1))\n",
    "    \n",
    "    #Loop through each data point in X\n",
    "    for x in xrange(idxs.shape[0]):\n",
    "        mypoint = X[x]\n",
    "        #Compare this point to each centroid,\n",
    "        #Keep track of shortest distance and index of shortest distance\n",
    "        mindist, idx = 9999999, 0\n",
    "        for i in xrange(mycentroids.shape[0]):\n",
    "            mycentroid = mycentroids[i]\n",
    "            distsquared = distSquared(mycentroid,mypoint)\n",
    "            if distsquared < mindist:\n",
    "                mindist = distsquared\n",
    "                idx = i\n",
    "        #With the best index found, modify the result idx vector\n",
    "        idxs[x] = idx\n",
    "        \n",
    "    return idxs"
   ]
  },
  {
   "cell_type": "code",
   "execution_count": null,
   "metadata": {
    "collapsed": false,
    "scrolled": false
   },
   "outputs": [],
   "source": [
    "idxs = findClosestCentroids(X,initial_centroids)\n",
    "\n",
    "#you should see the output [1 3 2] corresponding to the \n",
    "#centroid assignments for the first 3 examples.\n",
    "#Note my indices start at 0, so I should see [0, 2, 1]\n",
    "print idxs[:3].flatten()"
   ]
  },
  {
   "cell_type": "code",
   "execution_count": null,
   "metadata": {
    "collapsed": false
   },
   "outputs": [],
   "source": [
    "plotData(X,[initial_centroids],idxs)"
   ]
  },
  {
   "cell_type": "markdown",
   "metadata": {},
   "source": [
    "##### 1.1.2 Computing centroid means"
   ]
  },
  {
   "cell_type": "code",
   "execution_count": null,
   "metadata": {
    "collapsed": true
   },
   "outputs": [],
   "source": [
    "def computeCentroids(myX, myidxs):\n",
    "    \"\"\"\n",
    "    Function takes in the X matrix and the index vector\n",
    "    and computes a new centroid matrix.\n",
    "    \"\"\"\n",
    "    subX = []\n",
    "    for x in xrange(len(np.unique(myidxs))):\n",
    "        subX.append(np.array([myX[i] for i in xrange(myX.shape[0]) if myidxs[i] == x]))\n",
    "    return np.array([np.mean(thisX,axis=0) for thisX in subX])"
   ]
  },
  {
   "cell_type": "markdown",
   "metadata": {},
   "source": [
    "#### 1.2 _K_-means on example dataset"
   ]
  },
  {
   "cell_type": "code",
   "execution_count": null,
   "metadata": {
    "collapsed": true
   },
   "outputs": [],
   "source": [
    "def runKMeans(myX, initial_centroids, K, n_iter):\n",
    "    \"\"\"\n",
    "    Function that actually does the iterations\n",
    "    \"\"\"\n",
    "    centroid_history = []\n",
    "    current_centroids = initial_centroids\n",
    "    for myiter in xrange(n_iter):\n",
    "        centroid_history.append(current_centroids)\n",
    "        idxs = findClosestCentroids(X,current_centroids)\n",
    "        current_centroids = computeCentroids(X,idxs)\n",
    "        \n",
    "    return idxs, centroid_history"
   ]
  },
  {
   "cell_type": "code",
   "execution_count": null,
   "metadata": {
    "collapsed": true
   },
   "outputs": [],
   "source": [
    "idxs, centroid_history = runKMeans(X,initial_centroids,K=3,n_iter=10)"
   ]
  },
  {
   "cell_type": "code",
   "execution_count": null,
   "metadata": {
    "collapsed": false
   },
   "outputs": [],
   "source": [
    "plotData(X,centroid_history,idxs)"
   ]
  },
  {
   "cell_type": "markdown",
   "metadata": {},
   "source": [
    "#### 1.3 Random initialization"
   ]
  },
  {
   "cell_type": "code",
   "execution_count": null,
   "metadata": {
    "collapsed": true
   },
   "outputs": [],
   "source": [
    "def chooseKRandomCentroids(myX, K):\n",
    "    rand_indices = sample(range(0,myX.shape[0]),K)\n",
    "    return np.array([myX[i] for i in rand_indices])    "
   ]
  },
  {
   "cell_type": "code",
   "execution_count": null,
   "metadata": {
    "collapsed": false
   },
   "outputs": [],
   "source": [
    "#Let's choose random initial centroids and see the resulting \n",
    "#centroid progression plot.. perhaps three times in a row\n",
    "for x in xrange(3):\n",
    "    idxs, centroid_history = runKMeans(X,chooseKRandomCentroids(X,K=3),\n",
    "                                       K=3,n_iter=10)\n",
    "    plotData(X,centroid_history,idxs)"
   ]
  },
  {
   "cell_type": "markdown",
   "metadata": {},
   "source": [
    "#### 1.4 Image compression with _K_-means"
   ]
  }
 ],
 "metadata": {
  "kernelspec": {
   "display_name": "Python 2",
   "language": "python",
   "name": "python2"
  },
  "language_info": {
   "codemirror_mode": {
    "name": "ipython",
    "version": 2
   },
   "file_extension": ".py",
   "mimetype": "text/x-python",
   "name": "python",
   "nbconvert_exporter": "python",
   "pygments_lexer": "ipython2",
   "version": "2.7.5"
  }
 },
 "nbformat": 4,
 "nbformat_minor": 0
}
