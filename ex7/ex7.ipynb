{
 "cells": [
  {
   "cell_type": "markdown",
   "metadata": {},
   "source": [
    "## Programming Exercise 7: _K_-means Clustering and Principal Component Analysis"
   ]
  },
  {
   "cell_type": "code",
   "execution_count": null,
   "metadata": {
    "collapsed": false
   },
   "outputs": [],
   "source": [
    "%matplotlib inline\n",
    "import numpy as np\n",
    "import matplotlib.pyplot as plt\n",
    "import scipy.io #Used to load the OCTAVE *.mat files\n",
    "from random import sample #Used for random initialization\n",
    "import scipy.misc #Used to show matrix as an image"
   ]
  },
  {
   "cell_type": "markdown",
   "metadata": {},
   "source": [
    "### 1 _K_-means Clustering\n",
    "#### 1.1 Implementing _K_-means\n",
    "##### 1.1.1 Finding closest centroids"
   ]
  },
  {
   "cell_type": "code",
   "execution_count": null,
   "metadata": {
    "collapsed": false
   },
   "outputs": [],
   "source": [
    "#Read in ex7data2.mac\n",
    "datafile = 'data/ex7data2.mat'\n",
    "mat = scipy.io.loadmat( datafile )\n",
    "X = mat['X']\n",
    "\n",
    "#X is 300 points, each has two coordinates\n",
    "#IE the shape is (300,2)"
   ]
  },
  {
   "cell_type": "code",
   "execution_count": null,
   "metadata": {
    "collapsed": false
   },
   "outputs": [],
   "source": [
    "#Choose the number of centroids... K = 3\n",
    "K = 3\n",
    "#Choose the initial centroids matching ex7.m assignment script\n",
    "initial_centroids = np.array([[3,3],[6,2],[8,5]])"
   ]
  },
  {
   "cell_type": "code",
   "execution_count": null,
   "metadata": {
    "collapsed": false
   },
   "outputs": [],
   "source": [
    "#Visualizing the data\n",
    "def plotData(myX,mycentroids,myidxs = None):\n",
    "\n",
    "    \"\"\"\n",
    "    Fucntion to plot the data and color it accordingly.\n",
    "    myidxs should be the latest iteraction index vector\n",
    "    mycentroids should be a vector of centroids, one per iteration\n",
    "    \"\"\"\n",
    "    \n",
    "    colors = ['b','g','gold','darkorange','salmon','olivedrab']\n",
    "    \n",
    "    assert myX[0].shape == mycentroids[0][0].shape\n",
    "    assert mycentroids[-1].shape[0] <= len(colors)\n",
    "\n",
    "    #If idxs is supplied, divide up X into colors\n",
    "    if myidxs is not None:\n",
    "        assert myidxs.shape[0] == myX.shape[0]\n",
    "        subX = []\n",
    "        for x in xrange(mycentroids[0].shape[0]):\n",
    "            subX.append(np.array([myX[i] for i in xrange(myX.shape[0]) if myidxs[i] == x]))\n",
    "    else:\n",
    "        subX = [myX]\n",
    "        \n",
    "    fig = plt.figure(figsize=(7,5))\n",
    "    for x in xrange(len(subX)):\n",
    "        newX = subX[x]\n",
    "        plt.plot(newX[:,0],newX[:,1],'o',color=colors[x],\n",
    "                 alpha=0.75, label='Data Points: Cluster %d'%x)\n",
    "    plt.xlabel('x1',fontsize=14)\n",
    "    plt.ylabel('x2',fontsize=14)\n",
    "    plt.title('Plot of X Points',fontsize=16)\n",
    "    plt.grid(True)\n",
    "\n",
    "    #Drawing a history of centroid movement\n",
    "    tempx, tempy = [], []\n",
    "    for mycentroid in mycentroids:\n",
    "        tempx.append(mycentroid[:,0])\n",
    "        tempy.append(mycentroid[:,1])\n",
    "    \n",
    "    for x in xrange(len(tempx[0])):\n",
    "        plt.plot(tempx, tempy, 'rx--', markersize=8)\n",
    "\n",
    "    leg = plt.legend(loc=4, framealpha=0.5)"
   ]
  },
  {
   "cell_type": "code",
   "execution_count": null,
   "metadata": {
    "collapsed": false
   },
   "outputs": [],
   "source": [
    "plotData(X,[initial_centroids])"
   ]
  },
  {
   "cell_type": "code",
   "execution_count": null,
   "metadata": {
    "collapsed": true
   },
   "outputs": [],
   "source": [
    "def distSquared(point1, point2):\n",
    "    assert point1.shape == point2.shape\n",
    "    return np.sum(np.square(point2-point1))"
   ]
  },
  {
   "cell_type": "code",
   "execution_count": null,
   "metadata": {
    "collapsed": true
   },
   "outputs": [],
   "source": [
    "def findClosestCentroids(myX, mycentroids):\n",
    "    \"\"\"\n",
    "    Function takes in the (m,n) X matrix\n",
    "    (where m is the # of points, n is # of features per point)\n",
    "    and the (K,n) centroid seed matrix\n",
    "    (where K is the # of centroids (clusters)\n",
    "    and returns a (m,1) vector of cluster indices \n",
    "    per point in X (0 through K-1)\n",
    "    \"\"\"\n",
    "    idxs = np.zeros((myX.shape[0],1))\n",
    "    \n",
    "    #Loop through each data point in X\n",
    "    for x in xrange(idxs.shape[0]):\n",
    "        mypoint = myX[x]\n",
    "        #Compare this point to each centroid,\n",
    "        #Keep track of shortest distance and index of shortest distance\n",
    "        mindist, idx = 9999999, 0\n",
    "        for i in xrange(mycentroids.shape[0]):\n",
    "            mycentroid = mycentroids[i]\n",
    "            distsquared = distSquared(mycentroid,mypoint)\n",
    "            if distsquared < mindist:\n",
    "                mindist = distsquared\n",
    "                idx = i\n",
    "        #With the best index found, modify the result idx vector\n",
    "        idxs[x] = idx\n",
    "        \n",
    "    return idxs"
   ]
  },
  {
   "cell_type": "code",
   "execution_count": null,
   "metadata": {
    "collapsed": false,
    "scrolled": false
   },
   "outputs": [],
   "source": [
    "idxs = findClosestCentroids(X,initial_centroids)\n",
    "\n",
    "#you should see the output [1 3 2] corresponding to the \n",
    "#centroid assignments for the first 3 examples.\n",
    "#Note my indices start at 0, so I should see [0, 2, 1]\n",
    "print idxs[:3].flatten()"
   ]
  },
  {
   "cell_type": "code",
   "execution_count": null,
   "metadata": {
    "collapsed": false
   },
   "outputs": [],
   "source": [
    "plotData(X,[initial_centroids],idxs)"
   ]
  },
  {
   "cell_type": "markdown",
   "metadata": {},
   "source": [
    "##### 1.1.2 Computing centroid means"
   ]
  },
  {
   "cell_type": "code",
   "execution_count": null,
   "metadata": {
    "collapsed": true
   },
   "outputs": [],
   "source": [
    "def computeCentroids(myX, myidxs):\n",
    "    \"\"\"\n",
    "    Function takes in the X matrix and the index vector\n",
    "    and computes a new centroid matrix.\n",
    "    \"\"\"\n",
    "    subX = []\n",
    "    for x in xrange(len(np.unique(myidxs))):\n",
    "        subX.append(np.array([myX[i] for i in xrange(myX.shape[0]) if myidxs[i] == x]))\n",
    "    return np.array([np.mean(thisX,axis=0) for thisX in subX])"
   ]
  },
  {
   "cell_type": "markdown",
   "metadata": {},
   "source": [
    "#### 1.2 _K_-means on example dataset"
   ]
  },
  {
   "cell_type": "code",
   "execution_count": null,
   "metadata": {
    "collapsed": true
   },
   "outputs": [],
   "source": [
    "def runKMeans(myX, initial_centroids, K, n_iter):\n",
    "    \"\"\"\n",
    "    Function that actually does the iterations\n",
    "    \"\"\"\n",
    "    centroid_history = []\n",
    "    current_centroids = initial_centroids\n",
    "    for myiter in xrange(n_iter):\n",
    "        centroid_history.append(current_centroids)\n",
    "        idxs = findClosestCentroids(myX,current_centroids)\n",
    "        current_centroids = computeCentroids(myX,idxs)\n",
    "        \n",
    "    return idxs, centroid_history"
   ]
  },
  {
   "cell_type": "code",
   "execution_count": null,
   "metadata": {
    "collapsed": true
   },
   "outputs": [],
   "source": [
    "idxs, centroid_history = runKMeans(X,initial_centroids,K=3,n_iter=10)"
   ]
  },
  {
   "cell_type": "code",
   "execution_count": null,
   "metadata": {
    "collapsed": false
   },
   "outputs": [],
   "source": [
    "plotData(X,centroid_history,idxs)"
   ]
  },
  {
   "cell_type": "markdown",
   "metadata": {},
   "source": [
    "#### 1.3 Random initialization"
   ]
  },
  {
   "cell_type": "code",
   "execution_count": null,
   "metadata": {
    "collapsed": true
   },
   "outputs": [],
   "source": [
    "def chooseKRandomCentroids(myX, K):\n",
    "    rand_indices = sample(range(0,myX.shape[0]),K)\n",
    "    return np.array([myX[i] for i in rand_indices])    "
   ]
  },
  {
   "cell_type": "code",
   "execution_count": null,
   "metadata": {
    "collapsed": false
   },
   "outputs": [],
   "source": [
    "#Let's choose random initial centroids and see the resulting \n",
    "#centroid progression plot.. perhaps three times in a row\n",
    "for x in xrange(3):\n",
    "    idxs, centroid_history = runKMeans(X,chooseKRandomCentroids(X,K=3),\n",
    "                                       K=3,n_iter=10)\n",
    "    plotData(X,centroid_history,idxs)"
   ]
  },
  {
   "cell_type": "markdown",
   "metadata": {},
   "source": [
    "#### 1.4 Image compression with _K_-means\n",
    "##### 1.4.1 _K_-means on pixels"
   ]
  },
  {
   "cell_type": "code",
   "execution_count": null,
   "metadata": {
    "collapsed": false
   },
   "outputs": [],
   "source": [
    "datafile = 'data/bird_small.png'\n",
    "\n",
    "# This creates a three-dimensional matrix A whose first two indices \n",
    "# identify a pixel position and whose last index represents red, green, or blue.\n",
    "A = scipy.misc.imread(datafile)\n",
    "\n",
    "print \"A shape is \",A.shape\n",
    "dummy = plt.imshow(A)"
   ]
  },
  {
   "cell_type": "code",
   "execution_count": null,
   "metadata": {
    "collapsed": false
   },
   "outputs": [],
   "source": [
    "# Divide every entry in A by 255 so all values are in the range of 0 to 1\n",
    "A = A / 255.\n",
    "\n",
    "# Unroll the image to shape (16384,3) (16384 is 128*128)\n",
    "A = A.reshape(-1, 3)\n",
    "\n",
    "# Run k-means on this data, forming 16 clusters, with random initialization\n",
    "myK = 16\n",
    "idxs, centroid_history = runKMeans(A,chooseKRandomCentroids(A,myK),\n",
    "                                   myK,n_iter=10)"
   ]
  },
  {
   "cell_type": "code",
   "execution_count": null,
   "metadata": {
    "collapsed": true
   },
   "outputs": [],
   "source": [
    "# Now I have 16 centroids, each representing a color.\n",
    "# Let's assign an index to each pixel in the original image dictating\n",
    "# which of the 16 colors it should be\n",
    "idxs = findClosestCentroids(A, centroid_history[-1])"
   ]
  },
  {
   "cell_type": "code",
   "execution_count": null,
   "metadata": {
    "collapsed": false
   },
   "outputs": [],
   "source": [
    "final_centroids = centroid_history[-1]\n",
    "# Now loop through the original image and form a new image\n",
    "# that only has 16 colors in it\n",
    "final_image = np.zeros((idxs.shape[0],3))\n",
    "for x in xrange(final_image.shape[0]):\n",
    "    final_image[x] = final_centroids[int(idxs[x])]"
   ]
  },
  {
   "cell_type": "code",
   "execution_count": null,
   "metadata": {
    "collapsed": false
   },
   "outputs": [],
   "source": [
    "# Reshape the original image and the new, final image and draw them\n",
    "# To see what the \"compressed\" image looks like\n",
    "plt.figure()\n",
    "dummy = plt.imshow(A.reshape(128,128,3))\n",
    "plt.figure()\n",
    "dummy = plt.imshow(final_image.reshape(128,128,3))"
   ]
  },
  {
   "cell_type": "markdown",
   "metadata": {},
   "source": [
    "### 2 Principal Component Analysis\n",
    "#### 2.1 Example Dataset"
   ]
  },
  {
   "cell_type": "code",
   "execution_count": null,
   "metadata": {
    "collapsed": false
   },
   "outputs": [],
   "source": [
    "datafile = 'data/ex7data1.mat'\n",
    "mat = scipy.io.loadmat( datafile )\n",
    "X = mat['X']\n",
    "\n",
    "#Quick plot\n",
    "plt.figure(figsize=(7,5))\n",
    "plot = plt.scatter(X[:,0], X[:,1], s=30, facecolors='none', edgecolors='b')\n",
    "plt.title(\"Example Dataset\",fontsize=18)\n",
    "plt.grid(True)"
   ]
  },
  {
   "cell_type": "markdown",
   "metadata": {},
   "source": [
    "#### 2.2 Implementing PCA"
   ]
  },
  {
   "cell_type": "code",
   "execution_count": null,
   "metadata": {
    "collapsed": false
   },
   "outputs": [],
   "source": [
    "#Feature-normalize X, save it as X_norm\n",
    "means = np.mean(X,axis=0)\n",
    "X_norm = X - means\n",
    "stds  = np.std(X_norm,axis=0)\n",
    "X_norm = X_norm / stds"
   ]
  },
  {
   "cell_type": "code",
   "execution_count": null,
   "metadata": {
    "collapsed": false
   },
   "outputs": [],
   "source": [
    "from scipy import linalg\n",
    "# Compute the covariance matrix\n",
    "cov_matrix = X_norm.T.dot(X_norm)/X_norm.shape[0]\n",
    "# Run single value decomposition to get the U principal component matrix\n",
    "U, S, V = scipy.linalg.svd(cov_matrix, full_matrices = True, compute_uv = True)\n"
   ]
  },
  {
   "cell_type": "code",
   "execution_count": null,
   "metadata": {
    "collapsed": false
   },
   "outputs": [],
   "source": [
    "# \"...output the top principal component (eigen- vector) found, \n",
    "# and you should expect to see an output of about [-0.707 -0.707]\"\n",
    "print 'Top principal component is ',U[:,0]\n",
    "\n",
    "\n",
    "#Quick plot, now including the principal component\n",
    "plt.figure(figsize=(7,5))\n",
    "plot = plt.scatter(X[:,0], X[:,1], s=30, facecolors='none', edgecolors='b')\n",
    "plt.title(\"Example Dataset: PCA Eigenvectors Shown\",fontsize=18)\n",
    "plt.xlabel('x1',fontsize=18)\n",
    "plt.ylabel('x2',fontsize=18)\n",
    "plt.grid(True)\n",
    "#To draw the principal component, you draw them starting\n",
    "#at the mean of the data\n",
    "\n",
    "plt.plot([means[0], means[0] + 1.5*S[0]*U[0,0]], \n",
    "         [means[1], means[1] + 1.5*S[0]*U[0,1]],\n",
    "        color='red',linewidth=3,\n",
    "        label='First Principal Component')\n",
    "plt.plot([means[0], means[0] + 1.5*S[1]*U[1,0]], \n",
    "         [means[1], means[1] + 1.5*S[1]*U[1,1]],\n",
    "        color='fuchsia',linewidth=3,\n",
    "        label='Second Principal Component')\n",
    "leg = plt.legend(loc=4)"
   ]
  },
  {
   "cell_type": "markdown",
   "metadata": {
    "collapsed": true
   },
   "source": [
    "#### 2.3 Dimensionality Reduction with PCA\n",
    "##### 2.3.1 Projecting the data onto the principal components"
   ]
  },
  {
   "cell_type": "code",
   "execution_count": null,
   "metadata": {
    "collapsed": true
   },
   "outputs": [],
   "source": [
    "def projectData(myX, myU, K):\n",
    "    \"\"\"\n",
    "    Function that computes the reduced data representation when\n",
    "    projecting only on to the top \"K\" eigenvectors\n",
    "    \"\"\"\n",
    "    \n",
    "    #Reduced U is the first \"K\" columns in U\n",
    "    Ureduced = myU[:,:K]\n",
    "    z = myX.dot(Ureduced)\n",
    "    return z"
   ]
  },
  {
   "cell_type": "code",
   "execution_count": null,
   "metadata": {
    "collapsed": false
   },
   "outputs": [],
   "source": [
    "# \"...project the first example onto the first dimension \n",
    "# \"and you should see a value of about 1.481\"\n",
    "z = projectData(X_norm,U,1)\n",
    "print 'Projection of the first example is ',z[0]"
   ]
  },
  {
   "cell_type": "markdown",
   "metadata": {},
   "source": [
    "##### 2.3.2 Reconstructing an approximation of the data"
   ]
  },
  {
   "cell_type": "code",
   "execution_count": null,
   "metadata": {
    "collapsed": true
   },
   "outputs": [],
   "source": [
    "def recoverData(myZ, myU, K):\n",
    "    Ureduced = myU[:,:K]\n",
    "    Xapprox = myZ.dot(Ureduced.T)  \n",
    "    return Xapprox"
   ]
  },
  {
   "cell_type": "code",
   "execution_count": null,
   "metadata": {
    "collapsed": false
   },
   "outputs": [],
   "source": [
    "X_rec = recoverData(z,U,1)\n",
    "print 'Recovered approximation of the first example is ',X_rec[0]"
   ]
  },
  {
   "cell_type": "markdown",
   "metadata": {},
   "source": [
    "##### 2.3.3 Visualizing the projections"
   ]
  },
  {
   "cell_type": "code",
   "execution_count": null,
   "metadata": {
    "collapsed": false
   },
   "outputs": [],
   "source": [
    "#Quick plot, now drawing projected points to the original points\n",
    "plt.figure(figsize=(7,5))\n",
    "plot = plt.scatter(X_norm[:,0], X_norm[:,1], s=30, facecolors='none', \n",
    "                   edgecolors='b',label='Original Data Points')\n",
    "plot = plt.scatter(X_rec[:,0], X_rec[:,1], s=30, facecolors='none', \n",
    "                   edgecolors='r',label='PCA Reduced Data Points')\n",
    "\n",
    "plt.title(\"Example Dataset: Reduced Dimension Points Shown\",fontsize=14)\n",
    "plt.xlabel('x1 [Feature Normalized]',fontsize=14)\n",
    "plt.ylabel('x2 [Feature Normalized]',fontsize=14)\n",
    "plt.grid(True)\n",
    "\n",
    "for x in xrange(X_norm.shape[0]):\n",
    "    plt.plot([X_norm[x,0],X_rec[x,0]],[X_norm[x,1],X_rec[x,1]],'k--')\n",
    "    \n",
    "leg = plt.legend(loc=4)\n",
    "\n",
    "#Force square axes to make projections look better\n",
    "dummy = plt.xlim((-2.5,2.5))\n",
    "dummy = plt.ylim((-2.5,2.5))"
   ]
  },
  {
   "cell_type": "markdown",
   "metadata": {},
   "source": [
    "#### 2.4 Face Image Dataset"
   ]
  },
  {
   "cell_type": "code",
   "execution_count": null,
   "metadata": {
    "collapsed": true
   },
   "outputs": [],
   "source": []
  }
 ],
 "metadata": {
  "kernelspec": {
   "display_name": "Python 2",
   "language": "python",
   "name": "python2"
  },
  "language_info": {
   "codemirror_mode": {
    "name": "ipython",
    "version": 2
   },
   "file_extension": ".py",
   "mimetype": "text/x-python",
   "name": "python",
   "nbconvert_exporter": "python",
   "pygments_lexer": "ipython2",
   "version": "2.7.5"
  }
 },
 "nbformat": 4,
 "nbformat_minor": 0
}
