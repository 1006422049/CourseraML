{
 "cells": [
  {
   "cell_type": "markdown",
   "metadata": {},
   "source": [
    "## Programming Exercise 3: Neural Networks Learning"
   ]
  },
  {
   "cell_type": "code",
   "execution_count": null,
   "metadata": {
    "collapsed": false
   },
   "outputs": [],
   "source": [
    "%matplotlib inline\n",
    "import numpy as np\n",
    "import matplotlib.pyplot as plt\n",
    "import pandas as pd\n",
    "import scipy.io #Used to load the OCTAVE *.mat files\n",
    "import scipy.misc #Used to show matrix as an image\n",
    "import matplotlib.cm as cm #Used to display images in a specific colormap\n",
    "import random #To pick random images to display\n",
    "from scipy.special import expit #Vectorized sigmoid function"
   ]
  },
  {
   "cell_type": "markdown",
   "metadata": {},
   "source": [
    "### 1 Neural Networks"
   ]
  },
  {
   "cell_type": "markdown",
   "metadata": {},
   "source": [
    "#### 1.1 Visualizing the data"
   ]
  },
  {
   "cell_type": "code",
   "execution_count": null,
   "metadata": {
    "collapsed": false
   },
   "outputs": [],
   "source": [
    "#Note this is actually a symlink... same data as last exercise,\n",
    "#so there's no reason to add another 7MB to my github repo...\n",
    "datafile = 'data/ex4data1.mat'\n",
    "mat = scipy.io.loadmat( datafile )\n",
    "X, y = mat['X'], mat['y']\n",
    "#Insert a column of 1's to X as usual\n",
    "X = np.insert(X,0,1,axis=1)\n",
    "print \"'y' shape: %s. Unique elements in y: %s\"%(mat['y'].shape,np.unique(mat['y']))\n",
    "print \"'X' shape: %s. X[0] shape: %s\"%(X.shape,X[0].shape)\n",
    "#X is 5000 images. Each image is a row. Each image has 400 pixels unrolled (20x20)\n",
    "#y is a classification for each image. 1-10, where \"10\" is the handwritten \"0\""
   ]
  },
  {
   "cell_type": "code",
   "execution_count": null,
   "metadata": {
    "collapsed": false
   },
   "outputs": [],
   "source": [
    "def getDatumImg(row):\n",
    "    \"\"\"\n",
    "    Function that is handed a single np array with shape 1x400,\n",
    "    crates an image object from it, and returns it\n",
    "    \"\"\"\n",
    "    width, height = 20, 20\n",
    "    square = row[1:].reshape(width,height)\n",
    "    return square.T\n",
    "    \n",
    "def displayData(indices_to_display = None):\n",
    "    \"\"\"\n",
    "    Function that picks 100 random rows from X, creates a 20x20 image from each,\n",
    "    then stitches them together into a 10x10 grid of images, and shows it.\n",
    "    \"\"\"\n",
    "    width, height = 20, 20\n",
    "    nrows, ncols = 10, 10\n",
    "    if not indices_to_display:\n",
    "        indices_to_display = random.sample(range(X.shape[0]), nrows*ncols)\n",
    "        \n",
    "    big_picture = np.zeros((height*nrows,width*ncols))\n",
    "    \n",
    "    irow, icol = 0, 0\n",
    "    for idx in indices_to_display:\n",
    "        if icol == ncols:\n",
    "            irow += 1\n",
    "            icol  = 0\n",
    "        iimg = getDatumImg(X[idx])\n",
    "        big_picture[irow*height:irow*height+iimg.shape[0],icol*width:icol*width+iimg.shape[1]] = iimg\n",
    "        icol += 1\n",
    "    fig = plt.figure(figsize=(6,6))\n",
    "    img = scipy.misc.toimage( big_picture )\n",
    "    plt.imshow(img,cmap = cm.Greys_r)"
   ]
  },
  {
   "cell_type": "code",
   "execution_count": null,
   "metadata": {
    "collapsed": false
   },
   "outputs": [],
   "source": [
    "displayData()"
   ]
  },
  {
   "cell_type": "markdown",
   "metadata": {},
   "source": [
    "#### 1.2 Model representation"
   ]
  },
  {
   "cell_type": "code",
   "execution_count": null,
   "metadata": {
    "collapsed": false
   },
   "outputs": [],
   "source": [
    "#You have been provided with a set of network parameters (Θ(1),Θ(2)) \n",
    "#already trained by us. These are stored in ex4weights.mat\n",
    "datafile = 'data/ex4weights.mat'\n",
    "mat = scipy.io.loadmat( datafile )\n",
    "Theta1, Theta2 = mat['Theta1'], mat['Theta2']\n",
    "# The matrices Theta1 and Theta2 will now be in your workspace\n",
    "# Theta1 has size 25 x 401\n",
    "# Theta2 has size 10 x 26\n",
    "print \"Theta1 has shape:\",Theta1.shape\n",
    "print \"Theta2 has shape:\",Theta2.shape"
   ]
  },
  {
   "cell_type": "markdown",
   "metadata": {},
   "source": [
    "#### 1.3 Feedforward and cost function"
   ]
  },
  {
   "cell_type": "code",
   "execution_count": null,
   "metadata": {
    "collapsed": true
   },
   "outputs": [],
   "source": []
  },
  {
   "cell_type": "code",
   "execution_count": null,
   "metadata": {
    "collapsed": true
   },
   "outputs": [],
   "source": []
  },
  {
   "cell_type": "code",
   "execution_count": null,
   "metadata": {
    "collapsed": true
   },
   "outputs": [],
   "source": []
  },
  {
   "cell_type": "code",
   "execution_count": null,
   "metadata": {
    "collapsed": true
   },
   "outputs": [],
   "source": []
  },
  {
   "cell_type": "code",
   "execution_count": null,
   "metadata": {
    "collapsed": true
   },
   "outputs": [],
   "source": []
  },
  {
   "cell_type": "code",
   "execution_count": null,
   "metadata": {
    "collapsed": true
   },
   "outputs": [],
   "source": []
  },
  {
   "cell_type": "code",
   "execution_count": null,
   "metadata": {
    "collapsed": true
   },
   "outputs": [],
   "source": []
  },
  {
   "cell_type": "code",
   "execution_count": null,
   "metadata": {
    "collapsed": true
   },
   "outputs": [],
   "source": []
  },
  {
   "cell_type": "code",
   "execution_count": null,
   "metadata": {
    "collapsed": true
   },
   "outputs": [],
   "source": [
    "#This is all c/p old stuff from the previous week(s) and should be removed"
   ]
  },
  {
   "cell_type": "code",
   "execution_count": null,
   "metadata": {
    "collapsed": false
   },
   "outputs": [],
   "source": [
    "#Hypothesis function and cost function for logistic regression\n",
    "def h(mytheta,myX): #Logistic hypothesis function\n",
    "    return expit(np.dot(myX,mytheta))\n",
    "\n",
    "def computeCost(mytheta,myX,myy,mylambda = 0.):\n",
    "    m = myX.shape[0] #5000\n",
    "    myh = h(mytheta,myX) #shape: (5000,1)\n",
    "    term1 = np.log( myh ).dot( -myy.T ) #shape: (5000,5000)\n",
    "    term2 = np.log( 1.0 - myh ).dot( 1 - myy.T ) #shape: (5000,5000)\n",
    "    left_hand = (term1 - term2) / m #shape: (5000,5000)\n",
    "    right_hand = mytheta.T.dot( mytheta ) * mylambda / (2*m) #shape: (1,1)\n",
    "    return left_hand + right_hand #shape: (5000,5000)"
   ]
  },
  {
   "cell_type": "code",
   "execution_count": null,
   "metadata": {
    "collapsed": true
   },
   "outputs": [],
   "source": [
    "# Once you are done, ex4.m will call your nnCostFunction \n",
    "# using the loaded set of parameters for Theta1 and Theta2. \n",
    "# You should see that the cost is about 0.287629."
   ]
  },
  {
   "cell_type": "markdown",
   "metadata": {},
   "source": [
    "#### 1.4 Regularized cost function"
   ]
  },
  {
   "cell_type": "code",
   "execution_count": null,
   "metadata": {
    "collapsed": true
   },
   "outputs": [],
   "source": []
  },
  {
   "cell_type": "code",
   "execution_count": null,
   "metadata": {
    "collapsed": true
   },
   "outputs": [],
   "source": []
  },
  {
   "cell_type": "code",
   "execution_count": null,
   "metadata": {
    "collapsed": true
   },
   "outputs": [],
   "source": []
  },
  {
   "cell_type": "code",
   "execution_count": null,
   "metadata": {
    "collapsed": true
   },
   "outputs": [],
   "source": []
  },
  {
   "cell_type": "code",
   "execution_count": null,
   "metadata": {
    "collapsed": true
   },
   "outputs": [],
   "source": []
  },
  {
   "cell_type": "code",
   "execution_count": null,
   "metadata": {
    "collapsed": true
   },
   "outputs": [],
   "source": []
  },
  {
   "cell_type": "code",
   "execution_count": null,
   "metadata": {
    "collapsed": true
   },
   "outputs": [],
   "source": []
  },
  {
   "cell_type": "code",
   "execution_count": null,
   "metadata": {
    "collapsed": true
   },
   "outputs": [],
   "source": []
  },
  {
   "cell_type": "code",
   "execution_count": null,
   "metadata": {
    "collapsed": true
   },
   "outputs": [],
   "source": []
  },
  {
   "cell_type": "code",
   "execution_count": null,
   "metadata": {
    "collapsed": true
   },
   "outputs": [],
   "source": []
  },
  {
   "cell_type": "code",
   "execution_count": null,
   "metadata": {
    "collapsed": true
   },
   "outputs": [],
   "source": []
  },
  {
   "cell_type": "code",
   "execution_count": null,
   "metadata": {
    "collapsed": false
   },
   "outputs": [],
   "source": [
    "#An alternative to OCTAVE's 'fmincg' we'll use some scipy.optimize function, \"fmin_cg\"\n",
    "#This is more efficient with large number of parameters.\n",
    "#In the previous homework, I didn't have to compute the cost gradient because\n",
    "#the scipy.optimize function did it for me with some kind of interpolation...\n",
    "#However, fmin_cg needs the gradient handed do it, so I'll implement that here\n",
    "def costGradient(mytheta,myX,myy,mylambda = 0.):\n",
    "    m = myX.shape[0]\n",
    "    #Tranpose y here because it makes the units work out in dot products later\n",
    "    #(with the way I've written them, anyway)\n",
    "    beta = h(mytheta,myX)-myy.T #shape: (5000,5000)\n",
    "\n",
    "    #regularization skips the first element in theta\n",
    "    regterm = mytheta[1:]*(mylambda/m) #shape: (400,1)\n",
    "\n",
    "    grad = (1./m)*np.dot(myX.T,beta) #shape: (401, 5000)\n",
    "    #regularization skips the first element in theta\n",
    "    grad[1:] = grad[1:] + regterm\n",
    "    return grad #shape: (401, 5000)"
   ]
  },
  {
   "cell_type": "code",
   "execution_count": null,
   "metadata": {
    "collapsed": true
   },
   "outputs": [],
   "source": [
    "from scipy import optimize\n",
    "\n",
    "def optimizeTheta(mytheta,myX,myy,mylambda=0.):\n",
    "    result = optimize.fmin_cg(computeCost, fprime=costGradient, x0=mytheta, \\\n",
    "                              args=(myX, myy, mylambda), maxiter=50, disp=False,\\\n",
    "                              full_output=True)\n",
    "    return result[0], result[1]"
   ]
  },
  {
   "cell_type": "code",
   "execution_count": null,
   "metadata": {
    "collapsed": false
   },
   "outputs": [],
   "source": [
    "#Note: I spent a LONG time trying to optimize everything. Initially training 10 classes\n",
    "#took about 5 minutes. Now I've got it down to taking ~5 seconds total!\n",
    "def buildTheta():\n",
    "    \"\"\"\n",
    "    Function that determines an optimized theta for each class\n",
    "    and returns a Theta function where each row corresponds\n",
    "    to the learned logistic regression params for one class\n",
    "    \"\"\"\n",
    "    mylambda = 0.\n",
    "    initial_theta = np.zeros((X.shape[1],1)).reshape(-1)\n",
    "    Theta = np.zeros((10,X.shape[1]))\n",
    "    for i in xrange(10):\n",
    "        iclass = i if i else 10 #class \"10\" corresponds to handwritten zero\n",
    "        print \"Optimizing for handwritten number %d...\"%i\n",
    "        logic_Y = np.array([1 if x == iclass else 0 for x in y])#.reshape((X.shape[0],1))\n",
    "        itheta, imincost = optimizeTheta(initial_theta,X,logic_Y,mylambda)\n",
    "        Theta[i,:] = itheta\n",
    "    print \"Done!\"\n",
    "    return Theta"
   ]
  },
  {
   "cell_type": "code",
   "execution_count": null,
   "metadata": {
    "collapsed": false,
    "scrolled": false
   },
   "outputs": [],
   "source": [
    "Theta = buildTheta()"
   ]
  },
  {
   "cell_type": "code",
   "execution_count": null,
   "metadata": {
    "collapsed": false
   },
   "outputs": [],
   "source": [
    "def predictOneVsAll(myTheta,myrow):\n",
    "    \"\"\"\n",
    "    Function that computes a hypothesis for an individual image (row in X)\n",
    "    and returns the predicted integer corresponding to the handwritten image\n",
    "    \"\"\"\n",
    "    classes = [10] + range(1,10)\n",
    "    hypots  = [0]*len(classes)\n",
    "    #Compute a hypothesis for each possible outcome\n",
    "    #Choose the maximum hypothesis to find result\n",
    "    for i in xrange(len(classes)):\n",
    "        hypots[i] = h(myTheta[i],myrow)\n",
    "    return classes[np.argmax(np.array(hypots))]    "
   ]
  },
  {
   "cell_type": "code",
   "execution_count": null,
   "metadata": {
    "collapsed": false,
    "scrolled": true
   },
   "outputs": [],
   "source": [
    "# \"You should see that the training set accuracy is about 94.9%\"\n",
    "n_correct, n_total = 0., 0.\n",
    "incorrect_indices = []\n",
    "for irow in xrange(X.shape[0]):\n",
    "    n_total += 1\n",
    "    if predictOneVsAll(Theta,X[irow]) == y[irow]: \n",
    "        n_correct += 1\n",
    "    else: incorrect_indices.append(irow)\n",
    "print \"Training set accuracy: %0.1f%%\"%(100*(n_correct/n_total))"
   ]
  },
  {
   "cell_type": "code",
   "execution_count": null,
   "metadata": {
    "collapsed": false
   },
   "outputs": [],
   "source": [
    "#Let's have a look at the ones we get wrong:\n",
    "displayData(incorrect_indices[:100])\n",
    "displayData(incorrect_indices[100:200])\n",
    "displayData(incorrect_indices[200:300])"
   ]
  },
  {
   "cell_type": "markdown",
   "metadata": {
    "collapsed": true
   },
   "source": [
    "### 2 Neural Networks"
   ]
  },
  {
   "cell_type": "markdown",
   "metadata": {},
   "source": [
    "#### 2.1 Model representation"
   ]
  },
  {
   "cell_type": "code",
   "execution_count": null,
   "metadata": {
    "collapsed": false
   },
   "outputs": [],
   "source": []
  },
  {
   "cell_type": "markdown",
   "metadata": {},
   "source": [
    "#### 2.2 Feedforward Propagation"
   ]
  },
  {
   "cell_type": "code",
   "execution_count": null,
   "metadata": {
    "collapsed": false
   },
   "outputs": [],
   "source": [
    "def propagateForward(row,Thetas):\n",
    "    \"\"\"\n",
    "    Function that given a list of Thetas, propagates the\n",
    "    Row of features forwards, assuming the features already\n",
    "    include the bias unit in the input layer, and the \n",
    "    Thetas need the bias unit added to features between each layer\n",
    "    \"\"\"\n",
    "    features = row\n",
    "    for i in xrange(len(Thetas)):\n",
    "        Theta = Thetas[i]\n",
    "        z = Theta.dot(features)\n",
    "        a = expit(z)\n",
    "        if i == len(Thetas)-1:\n",
    "            return a\n",
    "        a = np.insert(a,0,1) #Add the bias unit\n",
    "        features = a\n",
    "\n",
    "def predictNN(row,Thetas):\n",
    "    \"\"\"\n",
    "    Function that takes a row of features, propagates them through the\n",
    "    NN, and returns the predicted integer that was hand written\n",
    "    \"\"\"\n",
    "    classes = range(1,10) + [10]\n",
    "    output = propagateForward(row,Thetas)\n",
    "    return classes[np.argmax(np.array(output))]"
   ]
  },
  {
   "cell_type": "code",
   "execution_count": null,
   "metadata": {
    "collapsed": false,
    "scrolled": false
   },
   "outputs": [],
   "source": [
    "# \"You should see that the accuracy is about 97.5%\"\n",
    "myThetas = [ Theta1, Theta2 ]\n",
    "n_correct, n_total = 0., 0.\n",
    "incorrect_indices = []\n",
    "#Loop over all of the rows in X (all of the handwritten images)\n",
    "#and predict what digit is written. Check if it's correct, and\n",
    "#compute an efficiency.\n",
    "for irow in xrange(X.shape[0]):\n",
    "    n_total += 1\n",
    "    if predictNN(X[irow],myThetas) == int(y[irow]): \n",
    "        n_correct += 1\n",
    "    else: incorrect_indices.append(irow)\n",
    "print \"Training set accuracy: %0.1f%%\"%(100*(n_correct/n_total))"
   ]
  },
  {
   "cell_type": "code",
   "execution_count": null,
   "metadata": {
    "collapsed": false,
    "scrolled": false
   },
   "outputs": [],
   "source": [
    "#Pick some of the images we got WRONG and look at them, just to see\n",
    "for x in xrange(5):\n",
    "    i = random.choice(incorrect_indices)\n",
    "    fig = plt.figure(figsize=(3,3))\n",
    "    img = scipy.misc.toimage( getDatumImg(X[i]) )\n",
    "    plt.imshow(img,cmap = cm.Greys_r)\n",
    "    predicted_val = predictNN(X[i],myThetas)\n",
    "    predicted_val = 0 if predicted_val == 10 else predicted_val\n",
    "    fig.suptitle('Predicted: %d'%predicted_val, fontsize=14, fontweight='bold')"
   ]
  }
 ],
 "metadata": {
  "kernelspec": {
   "display_name": "Python 2",
   "language": "python",
   "name": "python2"
  },
  "language_info": {
   "codemirror_mode": {
    "name": "ipython",
    "version": 2
   },
   "file_extension": ".py",
   "mimetype": "text/x-python",
   "name": "python",
   "nbconvert_exporter": "python",
   "pygments_lexer": "ipython2",
   "version": "2.7.5"
  }
 },
 "nbformat": 4,
 "nbformat_minor": 0
}
